{
 "cells": [
  {
   "cell_type": "code",
   "execution_count": 7,
   "metadata": {
    "collapsed": false
   },
   "outputs": [],
   "source": [
    "import zipfile\n",
    "import numpy as np\n",
    "import pandas as pd\n",
    "import os"
   ]
  },
  {
   "cell_type": "code",
   "execution_count": 43,
   "metadata": {},
   "outputs": [],
   "source": [
    "def load_dataset():\n",
    "    def load_images(filename):\n",
    "        if (os.path.exists(filename)):\n",
    "            print filename\n",
    "            return []\n",
    "\n",
    "    def load_labels(filename):\n",
    "        if (os.path.exists(filename)):\n",
    "            print filename\n",
    "            return pd.read_csv(zipfile.ZipFile(filename).open('labels.csv'))\n",
    "\n",
    "    X_train = load_images('data/train.zip')\n",
    "    Y_train = load_labels('data/labels.csv.zip')\n",
    "    X_test = load_images('data/test.zip')\n",
    "\n",
    "    return X_train, Y_train, X_test"
   ]
  },
  {
   "cell_type": "code",
   "execution_count": 44,
   "metadata": {},
   "outputs": [
    {
     "name": "stdout",
     "output_type": "stream",
     "text": [
      "data/train.zip\ndata/labels.csv.zip\ndata/test.zip\n                                     id                        breed\n0      000bec180eb18c7604dcecc8fe0dba07                  boston_bull\n1      001513dfcb2ffafc82cccf4d8bbaba97                        dingo\n2      001cdf01b096e06d78e9e5112d419397                     pekinese\n3      00214f311d5d2247d5dfe4fe24b2303d                     bluetick\n4      0021f9ceb3235effd7fcde7f7538ed62             golden_retriever\n5      002211c81b498ef88e1b40b9abf84e1d           bedlington_terrier\n6      00290d3e1fdd27226ba27a8ce248ce85           bedlington_terrier\n7      002a283a315af96eaea0e28e7163b21b                       borzoi\n8      003df8b8a8b05244b1d920bb6cf451f9                      basenji\n9      0042188c895a2f14ef64a918ed9c7b64           scottish_deerhound\n10     004396df1acd0f1247b740ca2b14616e            shetland_sheepdog\n11     0067dc3eab0b3c3ef0439477624d85d6                 walker_hound\n12     00693b8bc2470375cc744a6391d397ec                  maltese_dog\n13     006cc3ddb9dc1bd827479569fcdc52dc                     bluetick\n14     0075dc49dab4024d12fafe67074d8a81              norfolk_terrier\n15     00792e341f3c6eb33663e415d0715370          african_hunting_dog\n16     007b5a16db9d9ff9d7ad39982703e429      wire-haired_fox_terrier\n17     007b8a07882822475a4ce6581e70b1f8                      redbone\n18     007ff9a78eba2aebb558afea3a51c469             lakeland_terrier\n19     008887054b18ba3c7601792b6a453cc3                        boxer\n20     008b1271ed1addaccf93783b39deab45                     doberman\n21     008ba178d6dfc1a583617470d19c1673                   otterhound\n22     009509be3ca7cce0ff9e37c8b09b1125                   otterhound\n23     0097c6242c6f3071762d9f85c3ef1b2f           bedlington_terrier\n24     00a338a92e4e7bf543340dc849230e75                        dingo\n25     00a366d4b4a9bbb6c8a63126697b7656             golden_retriever\n26     00a862390341c5be090dd72bd2bc19ef           standard_schnauzer\n27     00b7d114bc5166a629a3cc03d9329120          irish_water_spaniel\n28     00ba244566e36e0af3d979320fd3017f      black-and-tan_coonhound\n29     00bee065dcec471f26394855c5c2f3de                        cairn\n...                                 ...                          ...\n10192  ff4afeb51a1473f7ba18669a8ff48bc9               border_terrier\n10193  ff4bb57ce419cd637dd511a1b5474bff                  appenzeller\n10194  ff52a3909f5801a71161cec95d213107  west_highland_white_terrier\n10195  ff54d45962b3123bb67052e8e29a60e7                      basenji\n10196  ff63ed894f068da8e2bbdfda50a9a9f8                        boxer\n10197  ff63fa05a58473138848f80840064d23                affenpinscher\n10198  ff6f47aa8e181b6efa4d0be7b09b5628             golden_retriever\n10199  ff7334b06cee8667a7f30eb00e0b93cf                      whippet\n10200  ff7d9c08091acc3b18b869951feeb013                  maltese_dog\n10201  ff84992beff3edd99b72718bec9448d2           bedlington_terrier\n10202  ff8e3fa7e04faca99af85195507ee54d             sealyham_terrier\n10203  ff91c3c095a50d3d7f1ab52b60e93638                affenpinscher\n10204  ffa0055ec324829882186bae29491645                  maltese_dog\n10205  ffa0ad682c6670db3defce2575a2587f             english_springer\n10206  ffa16727a9ee462ee3f386be865b199e              irish_wolfhound\n10207  ffa4e1bf959425bad9228b04af40ac76                      basenji\n10208  ffa6a8d29ce57eb760d0f182abada4bf             english_foxhound\n10209  ffbbf7536ba86dcef3f360bda41181b4                   weimaraner\n10210  ffc1717fc5b5f7a6c76d0e4ea7c8f93a                   great_dane\n10211  ffc2b6b9133a6413c4a013cff29f9ed2                 irish_setter\n10212  ffc532991d3cd7880d27a449ed1c4770              tibetan_terrier\n10213  ffca1c97cea5fada05b8646998a5b788             english_foxhound\n10214  ffcb610e811817766085054616551f9c                       briard\n10215  ffcde16e7da0872c357fbc7e2168c05f                     airedale\n10216  ffcffab7e4beef9a9b8076ef2ca51909                      samoyed\n10217  ffd25009d635cfd16e793503ac5edef0                       borzoi\n10218  ffd3f636f7f379c51ba3648a9ff8254f               dandie_dinmont\n10219  ffe2ca6c940cddfee68fa3cc6c63213f                     airedale\n10220  ffe5f6d8e2bff356e9482a80a6e29aac           miniature_pinscher\n10221  fff43b07992508bc822f33d8ffd902ae     chesapeake_bay_retriever\n\n[10222 rows x 2 columns]\n"
     ]
    }
   ],
   "source": [
    "X_train, Y_train, X_test = load_dataset()\n",
    "# print X_train\n",
    "print Y_train"
   ]
  },
  {
   "cell_type": "code",
   "execution_count": null,
   "metadata": {},
   "outputs": [],
   "source": [
    ""
   ]
  },
  {
   "cell_type": "code",
   "execution_count": null,
   "metadata": {},
   "outputs": [],
   "source": [
    ""
   ]
  },
  {
   "cell_type": "code",
   "execution_count": null,
   "metadata": {},
   "outputs": [],
   "source": [
    ""
   ]
  }
 ],
 "metadata": {
  "kernelspec": {
   "display_name": "Python 2",
   "language": "python",
   "name": "python2"
  },
  "language_info": {
   "codemirror_mode": {
    "name": "ipython",
    "version": 2.0
   },
   "file_extension": ".py",
   "mimetype": "text/x-python",
   "name": "python",
   "nbconvert_exporter": "python",
   "pygments_lexer": "ipython2",
   "version": "2.7.6"
  }
 },
 "nbformat": 4,
 "nbformat_minor": 0
}