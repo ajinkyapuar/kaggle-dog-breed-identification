{
 "cells": [
  {
   "cell_type": "code",
   "execution_count": 45,
   "metadata": {
    "collapsed": false
   },
   "outputs": [],
   "source": [
    "from zipfile import ZipFile\n",
    "import numpy as np\n",
    "import pandas as pd\n",
    "import os\n",
    "from StringIO import StringIO\n",
    "from PIL import Image\n",
    "import matplotlib.pyplot as plt\n",
    "import time\n",
    "%matplotlib inline"
   ]
  },
  {
   "cell_type": "code",
   "execution_count": 76,
   "metadata": {},
   "outputs": [],
   "source": [
    "def load_dataset():\n",
    "    def load_images(filename):\n",
    "        if (os.path.exists(filename)):\n",
    "            print filename\n",
    "            np_imgs = []\n",
    "            # print ZipFile(filename, 'r').namelist()\n",
    "            zf = ZipFile(filename, 'r')\n",
    "            print len(zf.namelist())\n",
    "            # sizes = []\n",
    "            # TODO: put range len(zf.namelist())\n",
    "            for i in range(1, 10):\n",
    "                # print i\n",
    "                data = StringIO(zf.read(zf.namelist()[i]))\n",
    "                img = Image.open(data)\n",
    "                np_imgs.append(np.array(img))\n",
    "                \n",
    "                # print img\n",
    "                # print np.array(img)\n",
    "                # print img.size\n",
    "                # img.show()\n",
    "                # print np.array(img).shape\n",
    "                # plt.imshow(np.array(img))\n",
    "            return np_imgs\n",
    "\n",
    "    def load_labels(filename):\n",
    "        if (os.path.exists(filename)):\n",
    "            # print filename\n",
    "            return pd.read_csv(ZipFile(filename, 'r').open('labels.csv'))\n",
    "\n",
    "    X_train = load_images('data/train.zip')\n",
    "    Y_train = load_labels('data/labels.csv.zip')\n",
    "    X_test = []\n",
    "    # X_test = load_images('data/test.zip')\n",
    "    return X_train, Y_train, X_test"
   ]
  },
  {
   "cell_type": "code",
   "execution_count": 77,
   "metadata": {},
   "outputs": [
    {
     "name": "stdout",
     "output_type": "stream",
     "text": [
      "data/train.zip\n10223\n"
     ]
    }
   ],
   "source": [
    "X_train_orig, Y_train_orig, X_test_orig = load_dataset()\n",
    "# print X_train\n",
    "# print Y_train"
   ]
  },
  {
   "cell_type": "code",
   "execution_count": 80,
   "metadata": {},
   "outputs": [
    {
     "name": "stdout",
     "output_type": "stream",
     "text": [
      "(375, 500, 3)\n"
     ]
    }
   ],
   "source": [
    "print X_train_orig[0].shape"
   ]
  },
  {
   "cell_type": "code",
   "execution_count": 69,
   "metadata": {},
   "outputs": [],
   "source": [
    ""
   ]
  },
  {
   "cell_type": "code",
   "execution_count": null,
   "metadata": {},
   "outputs": [],
   "source": [
    ""
   ]
  }
 ],
 "metadata": {
  "kernelspec": {
   "display_name": "Python 2",
   "language": "python",
   "name": "python2"
  },
  "language_info": {
   "codemirror_mode": {
    "name": "ipython",
    "version": 2.0
   },
   "file_extension": ".py",
   "mimetype": "text/x-python",
   "name": "python",
   "nbconvert_exporter": "python",
   "pygments_lexer": "ipython2",
   "version": "2.7.6"
  }
 },
 "nbformat": 4,
 "nbformat_minor": 0
}