{
 "cells": [
  {
   "cell_type": "code",
   "execution_count": 7,
   "metadata": {
    "collapsed": false
   },
   "outputs": [],
   "source": [
    "import zipfile\n",
    "import numpy as np\n",
    "import os"
   ]
  },
  {
   "cell_type": "code",
   "execution_count": 11,
   "metadata": {},
   "outputs": [],
   "source": [
    "def load_dataset():\n",
    "    def load_images(filename):\n",
    "        if (os.path.exists(filename)):\n",
    "            print filename\n",
    "            return []\n",
    "\n",
    "    def load_labels(filename):\n",
    "        if (os.path.exists(filename)):\n",
    "            print filename\n",
    "            return []\n",
    "\n",
    "    X_train = load_images('data/train.zip')\n",
    "    Y_train = load_labels('data/labels.csv.zip')\n",
    "    X_test = load_images('data/test.zip')\n",
    "\n",
    "    return X_train, Y_train, X_test"
   ]
  },
  {
   "cell_type": "code",
   "execution_count": 12,
   "metadata": {},
   "outputs": [
    {
     "name": "stdout",
     "output_type": "stream",
     "text": [
      "data/train.zip\ndata/labels.csv.zip\ndata/test.zip\n"
     ]
    }
   ],
   "source": [
    "X_train, Y_train, X_test = load_dataset()\n",
    "# print X_train"
   ]
  },
  {
   "cell_type": "code",
   "execution_count": null,
   "metadata": {},
   "outputs": [],
   "source": [
    ""
   ]
  },
  {
   "cell_type": "code",
   "execution_count": null,
   "metadata": {},
   "outputs": [],
   "source": [
    ""
   ]
  },
  {
   "cell_type": "code",
   "execution_count": null,
   "metadata": {},
   "outputs": [],
   "source": [
    ""
   ]
  }
 ],
 "metadata": {
  "kernelspec": {
   "display_name": "Python 2",
   "language": "python",
   "name": "python2"
  },
  "language_info": {
   "codemirror_mode": {
    "name": "ipython",
    "version": 2.0
   },
   "file_extension": ".py",
   "mimetype": "text/x-python",
   "name": "python",
   "nbconvert_exporter": "python",
   "pygments_lexer": "ipython2",
   "version": "2.7.6"
  }
 },
 "nbformat": 4,
 "nbformat_minor": 0
}