{
 "cells": [
  {
   "cell_type": "code",
   "execution_count": 8,
   "metadata": {
    "collapsed": false
   },
   "outputs": [],
   "source": [
    "from zipfile import ZipFile\n",
    "import numpy as np\n",
    "import pandas as pd\n",
    "import os\n",
    "from StringIO import StringIO"
   ]
  },
  {
   "cell_type": "code",
   "execution_count": 11,
   "metadata": {},
   "outputs": [],
   "source": [
    "def load_dataset():\n",
    "    def load_images(filename):\n",
    "        if (os.path.exists(filename)):\n",
    "            print filename\n",
    "            # print ZipFile(filename, 'r').namelist()\n",
    "            zf = ZipFile(filename, 'r')\n",
    "            print len(zf.namelist())\n",
    "            # TODO: put range len(zf.namelist())\n",
    "            for i in range(1, 10):\n",
    "                data = StringIO(zf.read(zf.namelist()[i]))\n",
    "                print data\n",
    "            \n",
    "                \n",
    "            return []\n",
    "\n",
    "    def load_labels(filename):\n",
    "        if (os.path.exists(filename)):\n",
    "            print filename\n",
    "            return pd.read_csv(ZipFile(filename, 'r').open('labels.csv'))\n",
    "\n",
    "    X_train = load_images('data/train.zip')\n",
    "    Y_train = load_labels('data/labels.csv.zip')\n",
    "    X_test = []\n",
    "    # X_test = load_images('data/test.zip')\n",
    "\n",
    "    return X_train, Y_train, X_test"
   ]
  },
  {
   "cell_type": "code",
   "execution_count": 12,
   "metadata": {},
   "outputs": [
    {
     "name": "stdout",
     "output_type": "stream",
     "text": [
      "data/train.zip\n10223\n<StringIO.StringIO instance at 0x10e4abc20>\n<StringIO.StringIO instance at 0x10e4abb90>\n<StringIO.StringIO instance at 0x10e4abc20>\n<StringIO.StringIO instance at 0x10e4abb90>\n<StringIO.StringIO instance at 0x10e4abc20>\n<StringIO.StringIO instance at 0x10e4abb90>\n<StringIO.StringIO instance at 0x10e4abc20>\n<StringIO.StringIO instance at 0x10e4abb90>\n<StringIO.StringIO instance at 0x10e4abc20>\ndata/labels.csv.zip\n"
     ]
    }
   ],
   "source": [
    "X_train_orig, Y_train_orig, X_test_orig = load_dataset()\n",
    "# print X_train\n",
    "# print Y_train"
   ]
  },
  {
   "cell_type": "code",
   "execution_count": null,
   "metadata": {},
   "outputs": [],
   "source": [
    ""
   ]
  },
  {
   "cell_type": "code",
   "execution_count": 69,
   "metadata": {},
   "outputs": [],
   "source": [
    ""
   ]
  },
  {
   "cell_type": "code",
   "execution_count": null,
   "metadata": {},
   "outputs": [],
   "source": [
    ""
   ]
  }
 ],
 "metadata": {
  "kernelspec": {
   "display_name": "Python 2",
   "language": "python",
   "name": "python2"
  },
  "language_info": {
   "codemirror_mode": {
    "name": "ipython",
    "version": 2.0
   },
   "file_extension": ".py",
   "mimetype": "text/x-python",
   "name": "python",
   "nbconvert_exporter": "python",
   "pygments_lexer": "ipython2",
   "version": "2.7.6"
  }
 },
 "nbformat": 4,
 "nbformat_minor": 0
}